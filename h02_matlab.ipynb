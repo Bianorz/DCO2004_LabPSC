{
 "cells": [
  {
   "cell_type": "markdown",
   "metadata": {},
   "source": [
    "# Hands-on 02: Visualização de sinais no tempo (vendo e ouvindo um sinal)"
   ]
  },
  {
   "cell_type": "markdown",
   "metadata": {},
   "source": [
    "# Objetivos\n",
    "As metas desse tutorial são ajudar o usuário a:\n",
    "- Fazer uma breve revisão de sinais;\n",
    "- Fazer uma breve revisão de sinais de áudio;\n",
    "- Praticar geração e plotagem de sinais de áudio;\n",
    "- Praticar abertura e plotagem de arquivos de áudio."
   ]
  },
  {
   "cell_type": "markdown",
   "metadata": {},
   "source": [
    "## Sinais e Ondas\n",
    "\n",
    "**Sinais** são funções de uma ou mais variáveis que fornecem informações sobre um  determinado  fenômeno (LATHI,  1998;  PROAKIS, 1996). Quanto ao tempo, um sinal pode ser contínuo ou discretos no tempo. Quanto a amplitude, um sinal pode ser analógico (contínuo em amplitude) ou quantizado (digital ou discreto em amplitude). Assim, em uma classificação bem precisa, temos:\n",
    "\n",
    "- **Contínuo vs Discreto**: se refere a classificação de sinais quanto a continuidade ou não no tempo;\n",
    "- **Analógico vs Digital**:  se refere a classificação de sinais quanto a continuidade ou não na amplitude;\n",
    "\n",
    "![fig_sinais_lathi](./FIGS/HD_02_MATLAB/sinais_lathi.png)\n",
    "(a) Analógico e contínuo no tempo; (b) Digital e contínuo no tempo; (c) Analógico e discreto no tempo; e (d) Digital e discreto no tempo;\n",
    "\n",
    "**Porque é importante representar matematicamente os sinais?**\n",
    "> Qualquer fonte de informação precisa transformar o sinal físico em sinal elétrico antes de transmiti-lo;\n",
    "\n",
    "> Representar matematicamente nos trará conhecimento de como aumentar a eficiência da transmissão da informação contida naquele sinal;\n",
    "\n",
    "> Representar matematicamente nos trará conhecimento de padrões esperados (sinais para previsão e diagnóstico).\n",
    "\n",
    "\n",
    "Por sua vez, **Onda** é uma perturbação que se propaga no espaço ou em qualquer outro meio. Elas podem ser classificadas em relação à natureza (mecânicas ou eletromagnéticas) e à direção de propagação (transversal ou longitudinal).\n",
    "\n",
    "Quanto a natureza, uma onda pode ser **Mecânica** (se propaga em meios materiais, e.g. ondas marítimas e ondas sonoras, e tem comportamento descrito pelas **Leis de Newton**) ou **Eletromagnética** (não precisa de um meio material para se propagar e é resultado da combinação de campo elétrico com o campo magnético, e.g. onda a luz e ondas de transmissão de sinais, as quais são descritas pelas **equações de Maxwell**).\n",
    "\n",
    "![fig_ondas-eletromagneticas](./FIGS/HD_02_MATLAB/ondas-eletromagneticas.jpg)\n",
    "\n",
    "Quanto a direção de vibração, uma onda pode ser **Transversal** (quando as partículas do meio de propagação vibram perpendicularmente à direção de propagação da onda, e.g a luz) e **Longitudinal** (quando as partículas do meio de propagação vibram na mesma direção em que a onda se propaga, e.g. ondas sonoras).\n",
    "\n",
    "![fig_ondas5](./FIGS/HD_02_MATLAB/ondas5.jpg)"
   ]
  },
  {
   "cell_type": "markdown",
   "metadata": {},
   "source": [
    "## Som e ondas sonoras\n",
    "\n",
    "Fisicamente, uma onda sonora é uma onda senoidal (ou conjunto de ondas) que se propaga no ar com uma certa frequência. De maneira simplista, uma onda sonora é descrita como:\n",
    "\n",
    "$$ y(t)= A*sen(\\omega \\cdot t)$$\n",
    "\n",
    "sendo: \n",
    "- A = Amplitude \n",
    "- ω = 2*π*f = Frequência angular\n",
    "- f = Frequência\n",
    "\n",
    "Se essas ondas estiverem com a freqüência na faixa de 20 à 20 kHz, o ouvido humano pode ser capaz de vibrar à mesma proporção, captando essa informação e produzindo sensações neurais, às quais o ser humano dá o nome de **som**. Além disso, frequências superiores a 13 kHz começam a ser desagradáveis ao ouvido humano. \n",
    "\n",
    "Ondas sonoras são produzidas por equipamentos osciladores, em geral caixas de som ligadas a equipamentos capazes de gerar o sinal de músicas, da voz humana ou outro tipo de som desejado.\n",
    "\n",
    "### Nota musicais e altura do som\n",
    "**Nota** é o termo empregado para designar o elemento mínimo de um som, formado por um único modo de vibração do ar. Cada nota corresponde uma duração, está associada a uma freqüência em Hz e uma resposta ao impulso que caracteriza o produtor do som (trimbre). \n",
    "\n",
    "Embora a altura esteja intimamente relacionada com a frequência, é mais comum, em música, que se utilizem os nomes das **notas musicais**. Os nomes das notas são definidos de acordo com sua disposição dentro de uma escala musical. Na escala de **dó maior**, por exemplo, as notas correspondentes às alturas são: Dó, Ré, Mi, Fá, Sol, Lá e Si, após o que os nomes se repetem. \n",
    "\n",
    "A distância entre duas alturas é chamada de intervalo. Assim, as notas ou tons (Dó, Ré ,Mi, ...) são oscilações em uma determinada frequência. A tabela abaixo mostra as frequências (_f_) das notas musicais e sua relação com a nota dó em 512 Hz:"
   ]
  },
  {
   "cell_type": "markdown",
   "metadata": {},
   "source": [
    "| Notas |   Frequências (Hz)         | Razão  |\n",
    "| ------ |:-------------:|:-----:|\n",
    "| Dó (C)    | 512 |  1 |\n",
    "| Ré   (D) | 576      |    $^9/_8$ |\n",
    "| Mi    (E) | 640      |     $^5/_4$ |\n",
    "| Fá    (F) | 682.67      |     $^4/_3$ |\n",
    "| Sol    (G)| 768      |     $^3/_2$ |\n",
    "| Lá     (A)| 853.3      |    $^5/_3$|\n",
    "| Si     (B)| 960      |   $^{15}/_8$ |\n",
    "| Dó     (C)| 1024 |  2 |\n",
    "\n",
    "\n",
    "Perceba que quando multiplicamos a frequência da nota Dó por 2, obtemos outra nota Dó, porém mais aguda. Isso significa que o Dó de frequencia 1024Hz é uma harmônica do Dó de frequencia 512Hz. "
   ]
  },
  {
   "cell_type": "markdown",
   "metadata": {},
   "source": [
    "# Prática 1: Geração, reprodução e plotagem de um tom de áudio\n",
    "\n",
    "**Passo 1:** Abra o Matlab e crie um novo script com o código a seguir e salve-o com o nome **handson2_1.m**."
   ]
  },
  {
   "cell_type": "code",
   "execution_count": 2,
   "metadata": {},
   "outputs": [
    {
     "data": {
      "image/png": "[encoded data removed]",
      "text/plain": [
       "<IPython.core.display.Image object>"
      ]
     },
     "metadata": {},
     "output_type": "display_data"
    }
   ],
   "source": [
    "clear all;close all;      % Limpa variáveis e fecha todos os gráficos\n",
    "% Parâmetros da onda\n",
    "tf = 1;                   % Tempo de duração da nota\n",
    "fc = 512;                 % Frequência da nota Dó\n",
    "fs = 100*fc;              % Frequencia de amostragem da nota. \n",
    "t = 0:1/fs:tf;            % Vetor tempo. Para cada elemento do vetor t, haverá um elemento em y correspondente.\n",
    "A = 1;                    % Amplitude do sinal\n",
    "y=A*cos(2*pi*fc*t);       % Sinal senoidal\n",
    "p = audioplayer(y, fs);   % Reproduzir o sinal gerado\n",
    "play(p);                  % Reproduzir o sinal gerado\n",
    "pause(tf);                % Forçar uma pausa com a duração do som a ser escutado\n",
    "plot(t,y);                % Visualizar o sinal gerado  \n",
    "axis([0 0.02 -2 2 ]);     % Zoom para melhor visualização  "
   ]
  },
  {
   "cell_type": "markdown",
   "metadata": {},
   "source": [
    "A função **audioplay(y,fs)** é responsável por criar um objeto _p_ da classe _audioplayer_ para reprodução de áudio. Em seguida a função **play** serve para executar o som caracterizado pelo objeto _p_   (em versão antigas do Matlab é possível usar diretamente a função **wavplay**, não mais disponível em versões recentes).\n",
    "\n",
    "**Passo2:** Para visualizar alguns detalhes de qualquer variável do Matlab, use o comando **whos**. Assim, digite no Command Window do Matlab:\n",
    "\n",
    ">```\n",
    "whos p\n",
    "```\n",
    "\n",
    "**Passo 3:** Para visualizar o conteúdo da variável, digite no Command Window do Matlab:\n",
    "\n",
    ">```\n",
    "p\n",
    "```\n",
    "\n",
    "**Passo 4:** Muitas vezes o Matlab indica links rápidos para acessar informações relacionadas ao seu trabalho corrente. Por exemplo, clique no link ** audioplayer** da mensagem  _audioplayer with properties:_ que aparece logo após a execução do **Passo 2**. Um tela similar a figura a seguir aparecerá mostrado informações sobre a funçã **audioplayer**.\n",
    " \n",
    "\n",
    "![fig_audiplayer](./FIGS/HD_02_MATLAB/audiplayer.png)\n",
    "\n",
    "**Passo 5:** Mude o argumento da senoide para gerar a nota Ré, susbtituindo a geração da onda sonora por:\n",
    "\n",
    ">```\n",
    "y=A*cos(2*(9/8)*pi*fc*t);\n",
    "```\n",
    "\n",
    "Pode-se perceber que a onda agora está levemente mais aguda. Para qualquer outra nota, podemos reproduzi-la apenas consultando a tabela de notas acima e substituindo a frequência da onda y.\n",
    "\n",
    "A imagem ilustra as notas musicais com 7 frequências diferentes:\n",
    "\n",
    "![fig_senoide](./FIGS/HD_02_MATLAB/senoide.jpg)\n",
    "\n",
    "**Para o relatório:** Monte uma interface gráfica utilizando recursos do GUI (Graphical User Interface) do Matlab para criar um instrumento musical (um piano digital) com oito notas. Você pode implementar o teclado do instrumento como Push Buttons. Tente reproduzir o sinal no tempo de cada tom escolhido pelo usuário em uma janela (gráfico acima das teclas). Algo similar a figura a seguir pode ser criado.\n",
    "\n",
    "![fig_gui_teclado](./FIGS/HD_02_MATLAB/gui_teclado.png)\n",
    "\n",
    "Não esqueçam do material sobre GUI produzido pelo aluno **Marcial Guerra de Medeiros**. O material é bem didático e de fácil acompanhamento.\n",
    "- [ENGATINHANDO NO GUI DO MATLAB OU COMO APRENDER A CRIAR INTERFACES GRÁFICAS NO MATLAB EM UMA TARDE](./MATERIAL/HD_01_MATLAB/MGM - Apostila GUI Matlab v1-1.pdf)\n",
    " - [Download Códigos da GUI](./MATERIAL/HD_01_MATLAB/exemplo_GUI.zip)\n",
    "\n"
   ]
  },
  {
   "cell_type": "markdown",
   "metadata": {},
   "source": [
    "# Prática 2: Criação e reprodução de músicas baseadas em tons\n",
    "\n",
    "Para criar/reproduzir músicas usando tons senoidais vamos apenas formar uma sequência de notas que será reproduzida em sequência temporal. Uma das formas se dá com a formação de um vetor para armazenar a sequência de notas que compõe a música, o qual será usado para gerar senos, que por sua vez, serão reproduzidos pelas funções **audioplay(y,fs)** e **play(p)**.\n",
    "\n",
    "**Passo 1:** Abre o Matlab e crie um script chamado **handson2_2.m** com o seguinte código:"
   ]
  },
  {
   "cell_type": "code",
   "execution_count": 4,
   "metadata": {
    "collapsed": true
   },
   "outputs": [],
   "source": [
    "clear all;clc;close all;                      % Limpa variáveis e fecha todos os gráficos\n",
    "tf = 0.3;                                     % Duração de cada tom\n",
    "% Diconário de notas musicais\n",
    "% Do = 1; Ré = 2; Mi = 3; Fá = 4; Sol = 5; Lá = 6; Si = 7; Silêncio = 0\n",
    "% Vetor de \"música\", usando o dicionário de notas pré-definido\n",
    "vtmusic = [1 2 3 4 0 4 4 0 1 2 1 2 0 2 2 0 1 5 4 3 0 3 3 0 1 2 3 4 0 4 4];\n",
    "fdo = 512;                                    % Frequência da nota Dó (Hz)\n",
    "vtTom2Freq = [1 9/8 5/4 4/3 3/2 5/3 15/8 2];  % Relação de frequências entre as notas musicais\n",
    "for iplay = vtmusic                           % Loop de geração e reprodução da música \n",
    "    if iplay == 0                             % Implementação do silêncio\n",
    "        pause(tf);\n",
    "    else\n",
    "        fs = vtTom2Freq(iplay)*fdo;           % Escolhe a frequência do tom corrente\n",
    "        fa = 100*fs;                          % Escolhe a frequência de amostragem do tom corrente\n",
    "        t = 0:1/fa:tf;                        % Gera o eixo do tempo para o tom corrente\n",
    "        y=cos(2*pi*fs*t);                     % Gera o tom corrente\n",
    "        %wavplay(y,fa)                        % Matlab antigo: Os últimos comandos poderiam ser trocados por essa linha\n",
    "        p = audioplayer(y, fa);               % Reproduzir o sinal gerado  \n",
    "        play(p);                              % Reproduzir o sinal gerado\n",
    "        pause(tf);                            % Pausa com a duração do som a ser escutado (antes de tocar o próximo tom)\n",
    "    end\n",
    "end"
   ]
  },
  {
   "cell_type": "markdown",
   "metadata": {},
   "source": [
    "No script acima, a música é determinada pelo vetor **vtmusic=[1 2 3 4 5 6 7]**. Ele tem uma sequência de notas que compõem a música. As notas seguem um dicionário que estabelece um mapeamento de notas para números inteiros: _Do = 1; Ré = 2; Mi = 3; Fá = 4; Sol = 5; Lá = 6; Si = 7; Silêncio = 0_.\n",
    "\n",
    "Tomando como referência a frequência da nota Dó (_fdo = 512_) e a escala de notas definida por **vtTom2Freq = [1 9/8 5/4 4/3 3/2 5/3 15/8]**, cada tom com duração de _tf_ segundos é gerado e reproduzido em sequência. \n",
    "\n",
    "**Passo 2:** Mude o vetor da música para **vtmusic = [1 2 3 0 0 5 0 5 0 3 0 4 0 0 4 0 1 2 3 0 5 0 5 0 4 0 3 0 0 1 1 2 3 0 5 0 0 5 4 3 1 0 4 0 0 3 3 2 2 0 3 0 0 2 2 1 1 ]** e rode o programa novamente, verificando qual música será reproduzida.\n",
    "\n",
    "** Passo 3:** Vamos alterar o trimbre de cada tom ao modificar a geração da onda senoidal. Para tal gere o script ** handson2_3.m** com  o código a seguir:"
   ]
  },
  {
   "cell_type": "code",
   "execution_count": null,
   "metadata": {
    "collapsed": true
   },
   "outputs": [],
   "source": [
    "clear all;clc;close all;                      % Limpa variáveis e fecha todos os gráficos\n",
    "tf = 0.3;                                     % Duração de cada tom\n",
    "% Diconário de notas musicais\n",
    "% Do = 1; Ré = 2; Mi = 3; Fá = 4; Sol = 5; Lá = 6; Si = 7; Silêncio = 0\n",
    "% Vetor de \"música\", usando o dicionário de notas pré-definido\n",
    "vtmusic = [1 2 3 4 0 4 4 0 1 2 1 2 0 2 2 0 1 5 4 3 0 3 3 0 1 2 3 4 0 4 4];\n",
    "fdo = 512;                                    % Frequência da nota Dó (Hz)\n",
    "vtTom2Freq = [1 9/8 5/4 4/3 3/2 5/3 15/8 2];  % Relação de frequências entre as notas musicais\n",
    "for iplay = vtmusic                           % Loop de geração e reprodução da música \n",
    "    if iplay == 0                             % Implementação do silêncio\n",
    "        pause(tf);\n",
    "    else\n",
    "        fs = vtTom2Freq(iplay)*fdo;           % Escolhe a frequência do tom corrente\n",
    "        fa = 100*fs;                          % Escolhe a frequência de amostragem do tom corrente\n",
    "        t = 0:1/fa:tf;                        % Gera o eixo do tempo para o tom corrente\n",
    "        y=cos(2*pi*fs*t)+0.8*cos(2*pi*0.01*fs*t)+0.8*cos(-2*pi*0.01*fs*t);\n",
    "        %wavplay(y,fa)                        % Matlab antigo: Os últimos comandos poderiam ser trocados por essa linha\n",
    "        p = audioplayer(y, fa);               % Reproduzir o sinal gerado  \n",
    "        play(p);                              % Reproduzir o sinal gerado\n",
    "        pause(tf);                            % Pausa com a duração do som a ser escutado (antes de tocar o próximo tom)\n",
    "    end\n",
    "end"
   ]
  },
  {
   "cell_type": "markdown",
   "metadata": {},
   "source": [
    "Nota que agora o tom senoidal tem uma reposta em frequência em torno de sua frequência central _fs_, definida pelos termos **0.8*cos(2*pi*0.01*fs*t)+0.8*cos(-2*pi*0.01*fs*t)**. Isso traz um som diferente ao instrumento digital gerado por nós. Além da sua resposta em frequência, cada instrumento é capaz de gerar tons em determinada faixa de frequência. Veja uma ilsutraação de alguns instrumentos na figura a seguir.\n",
    "\n",
    "![fig_freq_instrumentos](./FIGS/HD_02_MATLAB/freq_instrumentos.png)\n",
    "\n",
    "\n",
    "Existem alguns trabalhos que modelam instrumentos musicais por meio de filtros digitais. Quem tiver interesse, pode começar por:\n",
    "\n",
    "\n",
    "[GUSTAVO DE MELO VALEIRA, MODELAGEM E SIMULAÇÃO DE INSTRUMENTOS MUSICAIS UTILIZANDO FILTROS DIGITAIS ](./MATERIAL/HD_02_MATLAB/TGIGustavo.pdf)\n",
    "\n",
    "[Gustavo de Melo Valeira e Marcio Eisencraft, Modelagem e simulação de instrumentos musicais utilizando filtros digitais](./MATERIAL/HD_02_MATLAB/Valeira2007.pdf)\n",
    "\n",
    "[André Wagner França, Uso de Processamento Digital de Áudio na Implementação de Efeitos em Instrumentos Musicais](./MATERIAL/HD_02_MATLAB/2015_AndreWagnerFranca.pdf)\n",
    "\n",
    "[ADRIANO LUIZ MORETTI, PROTÓTIPO DE UM SOFTWARE PARA O RECONHECIMENTO DE NOTAS MUSICAIS](./MATERIAL/HD_02_MATLAB/2003-1adrianoluizmorettivf.pdf)\n",
    "\n",
    "[Universidade de Aveiro, Departamento de Eletrônica, Telecomunicações e Informática, PDS, Trabalho Prático No 1: Sintetizador de Música](./MATERIAL/HD_02_MATLAB/TrabPratico1.pdf)\n",
    "\n",
    "[Sophocles J. Orfanidis, Rutgers University, INTRODUCTION TO Signal Processing, Capítulo 8](./MATERIAL/HD_02_MATLAB/orfanidis-i2sp.pdf)\n",
    "\n",
    "[José Miguel Hobaica Alvarado, Ecualizador y Sintetizador Musical](./MATERIAL/HD_02_MATLAB/ecualizador-y-sintetizador-musical-4.pdf)\n"
   ]
  },
  {
   "cell_type": "markdown",
   "metadata": {},
   "source": [
    "# Formatos de arquivos de música (Wav e PCM)\n",
    "\n",
    "Existem vários formatos de música e um bem conhecido é o **mp3** e o **wav**. O formato **wav** (Waveform Audio File Format) foi desenvolvido em 1991 pela Microsoft e a IBM e foi muito usado por usuários profissionais devido a preservação da qualidade de áudio e ao grande número de programas escritos para a plataforma Windows. Atualmente, quase todo programa que armazena ou lê áudio digital tem suporte para esse tipo de arquivo. O arquivo **wav** usa PCM (_Pulse Code Modulation_), suportando versão com um canal (mono) ou com dois canais (estéreo). \n",
    "\n",
    "![fig_wav](./FIGS/HD_02_MATLAB/wav.png)\n",
    "\n",
    "PCM é o formato padrão para áudio digital em computadores e em vários formatos de Blu-ray, DVD e Compact Disc (CD), também outros usos tal como os sistemas digitais de telefones. Os principais parâmetros de uma arquivo **wav** são sua **taxa de amostragem** (medida em Hz) e a **quantidade de bits de quantização**.\n",
    "\n",
    "O formato PCM está intimamente ligado ao processo de digitalização do sinal, portanto, dependedo das etapas clássicas de digitação de um sinal analógico:\n",
    "\n",
    "- **Amostragem**: coleta de amostras em intervalos regulares, discretizando o sinal no tempo;\n",
    "- **Quantização**: visa a discretização dos valores de amplitude do sinal em um número finito de níveis;\n",
    "- **Codificação**: transforma os valores discretos de amplitude em códigos binários. \n",
    "\n",
    "A Amostragem deve seguir **o limite para reconstrução de um sinal amostrado sem perdas** estabelecido por Nyquist, o qual determina que a **Taxa de amostragem** deve ser maior que duas vezes a banda do sinal analógico a ser amostrado. Dessa forma, evita-se aliasing (mascaramento ou sobreposição espectral), permitindo a reconstrução do sinal por filtragem. A **Taxa de amostragem** determina o tempo entre a coleta de amostras pelo processo de amostragem, estabelecendo-se a segunte relação:\n",
    "\n",
    "$T_a = \\frac{1}{R_a}$,\n",
    "\n",
    "sendo $R_a$ a **Taxa de amostragem** e $T_a$ o **tempo entre amostras**.\n",
    "\n",
    "![fig_amostragem](./FIGS/HD_02_MATLAB/amostragem.png)\n",
    "\n",
    "\n",
    "A **Quantização** é a discretização da amplitude do sinal e delimitada pela quantidade de níveis de amplitude que o sinal será representado.\n",
    "\n",
    "![fig_quantizacao](./FIGS/HD_02_MATLAB/quantizacao.png)\n",
    "\n",
    "Diferente da **amostragem**, o processo de **quantização** não é completamente reversível e um nível de qualidade da reprodução do sinal através das amostras quantizadas é definido. Esse nível de qualidade está atrelado a quantidade de níveis, que por sua vez determina a **quantidade de bits necessárias para representar cada amostra** do sinal quantizado.\n",
    "\n",
    "![fig_quantizacao_precisao](./FIGS/HD_02_MATLAB/quantizacao_precisao.png)\n",
    "\n",
    "Isso define a terceira etapa do processo de ditalização, a **Codificação**. Na codificação, cada nível da quantização é \n",
    "convertido em um **código binário**. A figura a seguir ilustra uma codificação na qual cada nível é representada por uma palavra binária de tamanho igual (nesse caso, um palavra de 8 bits).\n",
    "\n",
    "![fig_codificacao](./FIGS/HD_02_MATLAB/codificacao.png)\n",
    "\n",
    "Assim como em cada arquivo no formato **wav**, um sinal digital em um sistema telefônico é vinculado a uma **taxa de geração da informação**, muitas vezes referenciada de taxa de codificação do arquivo, medida em bps. Tomando o caso do sinal de voz para teelfonia, a amostragem é feita a um ritmo de 8 kHz (**Taxa de amostragem**) e utilizando 256 níveis de quantização (**8 bits por amostra**), resultando em 64 kbps.\n",
    "\n",
    "![fig_PCM_voice](./FIGS/HD_02_MATLAB/PCM_voice.png)\n"
   ]
  },
  {
   "cell_type": "markdown",
   "metadata": {},
   "source": [
    "# Prática 3: Abrindo e reproduzindo arquivos de música\n",
    "\n",
    "O Matlab tem biblioteca para abertura, manipulação e gravação de arquivos de áudio. Nesse experimento iremos praticar alguns deles. \n",
    "\n",
    "**Passo 1:** Abre o Matlab e crie um script chamado **handson3_1.m** com o seguinte código:"
   ]
  },
  {
   "cell_type": "code",
   "execution_count": 6,
   "metadata": {},
   "outputs": [
    {
     "name": "stdout",
     "output_type": "stream",
     "text": [
      "Amostragem:\n",
      " Taxa de amostragem = 44100 Hz\n",
      " Tempo entre amostras = 2.2676e-05 Segundos\n",
      " \n",
      "Quantização e Codificação:\n",
      " Número de bits por amostra = 16 bits\n",
      " \n",
      "Informações gerais do arquivo de áudio:\n",
      " Nome do Arquivo = /home/gppcom/DCO2004_LabPSC/MATERIAL/HD_02_MATLAB/sound_01.wav\n",
      " Número de canais = 1\n",
      " Número de amostras = 90309 amostras\n",
      " Duração = 2.0478 segundos\n"
     ]
    },
    {
     "data": {
      "image/png": "[encoded data removed]",
      "text/plain": [
       "<IPython.core.display.Image object>"
      ]
     },
     "metadata": {},
     "output_type": "display_data"
    }
   ],
   "source": [
    "close all;clc;clear all;                                          % Limpa variáveis e fecha todos os gráficos\n",
    "soundFile = ['./MATERIAL/HD_02_MATLAB/sound_01.wav'];             % Especifica do local e nome do arquivo de áudio\n",
    "[vtSom, dFa] = audioread(soundFile);                              % Abre arquivo de áudio de um arquivo\n",
    "% vtSom: amplitude das amostras de som\n",
    "% dFa: frequência de amostrasgem do som (amostragem no tempo)\n",
    "sInfo = audioinfo(soundFile);\n",
    "dta = 1/dFa;                                                      % Tempo entre amostras\n",
    "dTFinal = (length(vtSom)-1)*dta;                                  % Tempo da última amostra do sinal de áudio\n",
    "vtTSom = 0:dta:dTFinal;                                           % Eixo temporal do arquivo de áudio\n",
    "plot(vtTSom,vtSom);                                               % Plota gráfico do áudio\n",
    "set(gcf,'color',[1 1 1]);                                         % Configura área da figura\n",
    "set(gca,'FontWeight','bold','FontSize',12);                       % Configura área do gráfico\n",
    "title(['Sinal de Áudio']);                                        % Configura título do gráfico\n",
    "ylabel('Amplitude');                                              % Configura eixo X do gráfico\n",
    "xlabel('Tempo (s)');                                              % Configura eixo Y do gráfico\n",
    "p = audioplayer(vtSom, 1*dFa);                                    % Reproduzir arquivo de áudio\n",
    "play(p);                                                          % Reproduzir arquivo de áudio\n",
    "% Mostra informações gerais sobre o arquivo\n",
    "disp(['Amostragem:']);\n",
    "disp([' Taxa de amostragem = ' num2str(dFa) ' Hz']);\n",
    "disp([' Tempo entre amostras = ' num2str(dta) ' Segundos']);\n",
    "disp(' ');\n",
    "disp(['Quantização e Codificação:']);\n",
    "disp([' Número de bits por amostra = ' num2str(sInfo.BitsPerSample) ' bits']);\n",
    "disp(' ');\n",
    "disp(['Informações gerais do arquivo de áudio:']);\n",
    "disp([' Nome do Arquivo = ' sInfo.Filename]);\n",
    "disp([' Número de canais = ' num2str(sInfo.NumChannels)]);\n",
    "disp([' Número de amostras = ' num2str(sInfo.TotalSamples) ' amostras']);\n",
    "disp([' Duração = ' num2str(sInfo.Duration) ' segundos']);"
   ]
  },
  {
   "cell_type": "markdown",
   "metadata": {},
   "source": [
    "No código acima, o comando para ler o arquivo de áudio no Matlab é **audioread($\\cdot$)**. Ele devolve um vetor (_vtSom_) (análogo ao gerado anteriormento por y=cos($\\cdot$)), juntamente com a **taxa de amostragem** (_dFa_). Os som é reproduzido como antes, montando o objeto com **audioplay($\\cdot$)** e tocando com o **play($\\cdot$)**.\n",
    "\n",
    "A função **sInfo = audioinfo(soundFile)** nos dá várias informações do arquivo aberto, entre elas:\n",
    "![fig_audioinfo](./FIGS/HD_02_MATLAB/audioinfo.png)"
   ]
  },
  {
   "cell_type": "code",
   "execution_count": 7,
   "metadata": {},
   "outputs": [
    {
     "name": "stderr",
     "output_type": "stream",
     "text": [
      "\u001b[0;31mError using eval\n",
      "Undefined function 'Passo' for input arguments of type 'char'.\n",
      "\n",
      "\u001b[0m"
     ]
    }
   ],
   "source": [
    "Passo 2: Alterar a amplitude\n",
    "\n",
    "Passo 3: Altera a taxa de reprodução\n",
    "\n",
    "Passo 4: alterar a quantidade de amostras a reproduzir.\n",
    "\n"
   ]
  },
  {
   "cell_type": "markdown",
   "metadata": {},
   "source": [
    "Em que x é o intervalo entre 0 e 2 com o mesmo numero de elementos que o vetor de informações (data)."
   ]
  },
  {
   "cell_type": "markdown",
   "metadata": {},
   "source": [
    "Podemos também manipular nossos dados alterando o volume (multiplicando o y por uma constante de 0 a 1) ou o tom do audio (multiplicando a frequência fs por alguma das relações citada na tabela)."
   ]
  },
  {
   "cell_type": "code",
   "execution_count": 6,
   "metadata": {},
   "outputs": [
    {
     "data": {
      "image/png": "[encoded data removed]",
      "text/plain": [
       "<IPython.core.display.Image object>"
      ]
     },
     "metadata": {},
     "output_type": "display_data"
    }
   ],
   "source": [
    "%% Parâmetros da onda\n",
    "tf = 1; % Tempo de duração da nota\n",
    "fc = (2)*512; % Frequência da nota Ré\n",
    "fs = 100*fc; % Frequencia de amostragem da nota. \n",
    "t = 0:1/fs:tf; % Vetor tempo. Para cada elemento do vetor t, haverá um elemento em y correspondente.\n",
    "%% Novo valor para amplitude.\n",
    "A = 0.5;  % A amplitude do sinal agora está com a metade da intensidade.\n",
    "y=A*cos(2*pi*fc*t); % Sinal senoidal\n",
    "\n",
    "% Reproduzindo a nota:\n",
    "p = audioplayer(y, fs); \n",
    "play(p);  \n",
    "plot(t,y)  \n",
    "axis([0 0.01 -2 2 ]);"
   ]
  },
  {
   "cell_type": "markdown",
   "metadata": {},
   "source": [
    "# Bibliografia\n",
    "\n",
    "Brasil Escola, Ondas (http://brasilescola.uol.com.br/fisica/ondas.htm)\n",
    "Mundo da Educação, Ondas (http://mundoeducacao.bol.uol.com.br/fisica/ondas-2.htm)"
   ]
  },
  {
   "cell_type": "code",
   "execution_count": null,
   "metadata": {
    "collapsed": true
   },
   "outputs": [],
   "source": []
  }
 ],
 "metadata": {
  "kernelspec": {
   "display_name": "Matlab",
   "language": "matlab",
   "name": "matlab"
  },
  "language_info": {
   "codemirror_mode": "octave",
   "file_extension": ".m",
   "help_links": [
    {
     "text": "MetaKernel Magics",
     "url": "https://github.com/calysto/metakernel/blob/master/metakernel/magics/README.md"
    }
   ],
   "mimetype": "text/x-matlab",
   "name": "matlab",
   "version": "0.14.3"
  }
 },
 "nbformat": 4,
 "nbformat_minor": 2
}
