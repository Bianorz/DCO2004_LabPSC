{
 "cells": [
  {
   "cell_type": "markdown",
   "metadata": {},
   "source": [
    "# Hands-on 02: Visualização de sinais no tempo (vendo e ouvindo um sinal)"
   ]
  },
  {
   "cell_type": "markdown",
   "metadata": {},
   "source": [
    "# Objetivos\n",
    "As metas desse tutorial são ajudar o usuário a:\n",
    "- Fazer uma breve revisão de sinais;\n",
    "- Fazer uma breve revisão de sinais de áudio;\n",
    "- Praticar geração e plotagem de sinais de áudio;\n",
    "- Praticar abertura e plotagem de arquivos de áudio."
   ]
  },
  {
   "cell_type": "markdown",
   "metadata": {},
   "source": [
    "## Sinais e Ondas\n",
    "\n",
    "**Sinais** são funções de uma ou mais variáveis que fornecem informações sobre um  determinado  fenômeno (LATHI,  1998;  PROAKIS, 1996). Quanto ao tempo, um sinal pode ser contínuo ou discretos no tempo. Quanto a amplitude, um sinal pode ser analógico (contínuo em amplitude) ou quantizado (digital ou discreto em amplitude). Assim, em uma classificação bem precisa, temos:\n",
    "\n",
    "- **Contínuo vs Discreto**: se refere a classificação de sinais quanto a continuidade ou não no tempo;\n",
    "- **Analógico vs Digital**:  se refere a classificação de sinais quanto a continuidade ou não na amplitude;\n",
    "\n",
    "![fig_sinais_lathi](./FIGS/HD_02_MATLAB/sinais_lathi.png)\n",
    "(a) Analógico e contínuo no tempo; (b) Digital e contínuo no tempo; (c) Analógico e discreto no tempo; e (d) Digital e discreto no tempo;\n",
    "\n",
    "**Porque é importante representar matematicamente os sinais?**\n",
    "> Qualquer fonte de informação precisa transformar o sinal físico em sinal elétrico antes de transmiti-lo;\n",
    "\n",
    "> Representar matematicamente nos trará conhecimento de como aumentar a eficiência da transmissão da informação contida naquele sinal;\n",
    "\n",
    "> Representar matematicamente nos trará conhecimento de padrões esperados (sinais para previsão e diagnóstico).\n",
    "\n",
    "\n",
    "Por sua vez, **Onda** é uma perturbação que se propaga no espaço ou em qualquer outro meio. Elas podem ser classificadas em relação à natureza (mecânicas ou eletromagnéticas) e à direção de propagação (transversal ou longitudinal).\n",
    "\n",
    "Quanto a natureza, uma onda pode ser **Mecânica** (se propaga em meios materiais, e.g. ondas marítimas e ondas sonoras, e tem comportamento descrito pelas **Leis de Newton**) ou **Eletromagnética** (não precisa de um meio material para se propagar e é resultado da combinação de campo elétrico com o campo magnético, e.g. onda a luz e ondas de transmissão de sinais, as quais são descritas pelas **equações de Maxwell**).\n",
    "\n",
    "![fig_ondas-eletromagneticas](./FIGS/HD_02_MATLAB/ondas-eletromagneticas.jpg)\n",
    "\n",
    "Quanto a direção de vibração, uma onda pode ser **Transversal** (quando as partículas do meio de propagação vibram perpendicularmente à direção de propagação da onda, e.g a luz) e **Longitudinal** (quando as partículas do meio de propagação vibram na mesma direção em que a onda se propaga, e.g. ondas sonoras).\n",
    "\n",
    "![fig_ondas5](./FIGS/HD_02_MATLAB/ondas5.jpg)"
   ]
  },
  {
   "cell_type": "markdown",
   "metadata": {},
   "source": [
    "## Som e ondas sonoras\n",
    "\n",
    "Fisicamente, uma onda sonora é uma onda senoidal (ou conjunto de ondas) que se propaga no ar com uma certa frequência. De maneira simplista, uma onda sonora é descrita como:\n",
    "\n",
    "$$ y(t)= A*sen(\\omega \\cdot t)$$\n",
    "\n",
    "sendo: \n",
    "- A = Amplitude \n",
    "- ω = 2*π*f = Frequência angular\n",
    "- f = Frequência\n",
    "\n",
    "Se essas ondas estiverem com a freqüência na faixa de 20 à 20 kHz, o ouvido humano pode ser capaz de vibrar à mesma proporção, captando essa informação e produzindo sensações neurais, às quais o ser humano dá o nome de **som**. Além disso, frequências superiores a 13 kHz começam a ser desagradáveis ao ouvido humano. \n",
    "\n",
    "Ondas sonoras são produzidas por equipamentos osciladores, em geral caixas de som ligadas a equipamentos capazes de gerar o sinal de músicas, da voz humana ou outro tipo de som desejado.\n",
    "\n",
    "### Nota musicais e altura do som\n",
    "**Nota** é o termo empregado para designar o elemento mínimo de um som, formado por um único modo de vibração do ar. Cada nota corresponde uma duração, está associada a uma freqüência em Hz e uma resposta ao impulso que caracteriza o produtor do som (trimbre). \n",
    "\n",
    "Embora a altura esteja intimamente relacionada com a frequência, é mais comum, em música, que se utilizem os nomes das **notas musicais**. Os nomes das notas são definidos de acordo com sua disposição dentro de uma escala musical. Na escala de **dó maior**, por exemplo, as notas correspondentes às alturas são: Dó, Ré, Mi, Fá, Sol, Lá e Si, após o que os nomes se repetem. \n",
    "\n",
    "A distância entre duas alturas é chamada de intervalo. Assim, as notas ou tons (Dó, Ré ,Mi, ...) são oscilações em uma determinada frequência. A tabela abaixo mostra as frequências (_f_) das notas musicais e sua relação com a nota dó em 512 Hz:"
   ]
  },
  {
   "cell_type": "markdown",
   "metadata": {},
   "source": [
    "| Notas |   Frequências (Hz)         | Razão  |\n",
    "| ------ |:-------------:|:-----:|\n",
    "| Dó (C)    | 512 |  1 |\n",
    "| Ré   (D) | 576      |    $^9/_8$ |\n",
    "| Mi    (E) | 640      |     $^5/_4$ |\n",
    "| Fá    (F) | 682.67      |     $^4/_3$ |\n",
    "| Sol    (G)| 768      |     $^3/_2$ |\n",
    "| Lá     (A)| 853.3      |    $^5/_3$|\n",
    "| Si     (B)| 960      |   $^{15}/_8$ |\n",
    "| Dó     (C)| 1024 |  2 |\n",
    "\n",
    "\n",
    "Perceba que quando multiplicamos a frequência da nota Dó por 2, obtemos outra nota Dó, porém mais aguda. Isso significa que o Dó de frequencia 1024Hz é uma harmônica do Dó de frequencia 512Hz. "
   ]
  },
  {
   "cell_type": "markdown",
   "metadata": {},
   "source": [
    "# Prática 1: Geração, reprodução e plotagem de um tom de áudio\n",
    "\n",
    "**Passo 1:** Abra o Matlab e crie um novo script com o código a seguir e salve-o com o nome **handson2_1.m**."
   ]
  },
  {
   "cell_type": "code",
   "execution_count": 1,
   "metadata": {},
   "outputs": [
    {
     "data": {
      "image/png": "[encoded data removed]",
      "text/plain": [
       "<IPython.core.display.Image object>"
      ]
     },
     "metadata": {},
     "output_type": "display_data"
    }
   ],
   "source": [
    "clear all;close all;\n",
    "% Parâmetros da onda\n",
    "tf = 1;                   % Tempo de duração da nota\n",
    "fc = 512;                 % Frequência da nota Dó\n",
    "fs = 100*fc;              % Frequencia de amostragem da nota. \n",
    "t = 0:1/fs:tf;            % Vetor tempo. Para cada elemento do vetor t, haverá um elemento em y correspondente.\n",
    "A = 1;                    % Amplitude do sinal\n",
    "y=A*cos(2*pi*fc*t);       % Sinal senoidal\n",
    "p = audioplayer(y, fs);   % Reproduzir o sinal gerado\n",
    "play(p);                  % Reproduzir o sinal gerado\n",
    "plot(t,y);                % Visualizar o sinal gerado  \n",
    "axis([0 0.02 -2 2 ]);     % Zoom para melhor visualização  "
   ]
  },
  {
   "cell_type": "markdown",
   "metadata": {},
   "source": [
    "A função **audioplay(y,fs)** é responsável por criar um objeto _p_ da classe _audioplayer_ para reprodução de áudio. Em seguida a função **play** serve para executar o som caracterizado pelo objeto _p_   (em versão antigas do Matlab é possível usar diretamente a função **wavplay**, não mais disponível em versões recentes).\n",
    "\n",
    "**Passo2:** Para visualizar alguns detalhes de qualquer variável do Matlab, use o comando **whos**. Assim, digite no Command Window do Matlab:\n",
    "\n",
    ">```\n",
    "whos p\n",
    "```\n",
    "\n",
    "**Passo 3:** Para visualizar o conteúdo da variável, digite no Command Window do Matlab:\n",
    "\n",
    ">```\n",
    "p\n",
    "```\n",
    "\n",
    "**Passo 4:** Muitas vezes o Matlab indica links rápidos para acessar informações relacionadas ao seu trabalho corrente. Por exemplo, clique no link ** audioplayer** da mensagem  _audioplayer with properties:_ que aparece logo após a execução do **Passo 2**. Um tela similar a figura a seguir aparecerá mostrado informações sobre a funçã **audioplayer**.\n",
    " \n",
    "\n",
    "![fig_audiplayer](./FIGS/HD_02_MATLAB/audiplayer.png)\n",
    "\n",
    "**Passo 5:** Mude o argumento da senoide para gerar a nota Ré, susbtituindo a geração da onda sonora por:\n",
    "\n",
    ">```\n",
    "y=A*cos(2*(9/8)*pi*fc*t);\n",
    "```\n",
    "\n",
    "Pode-se perceber que a onda agora está levemente mais aguda. Para qualquer outra nota, podemos reproduzi-la apenas consultando a tabela de notas acima e substituindo a frequência da onda y.\n",
    "\n",
    "A imagem ilustra as notas musicais com 7 frequências diferentes:\n",
    "\n",
    "![fig_senoide](./FIGS/HD_02_MATLAB/senoide.jpg)\n",
    "\n",
    "**Para o relatório:** Monte uma interface gráfica utilizando recursos do GUI (Graphical User Interface) do Matlab para criar um instrumento musical (um piano digital) com oito notas. Você pode implementar o teclado do instrumento como Push Buttons. Tente reproduzir o sinal no tempo de cada tom escolhido pelo usuário em uma janela (gráfico acima das teclas). Algo similar a figura a seguir pode ser criado.\n",
    "\n",
    "![fig_gui_teclado](./FIGS/HD_02_MATLAB/gui_teclado.png)\n"
   ]
  },
  {
   "cell_type": "markdown",
   "metadata": {},
   "source": [
    "### Passo 2: Reprodução de músicas"
   ]
  },
  {
   "cell_type": "markdown",
   "metadata": {},
   "source": [
    "#### Definições de parâmetros da onda"
   ]
  },
  {
   "cell_type": "markdown",
   "metadata": {},
   "source": [
    "Para criar/reproduzir músicas será necessário apenas formar uma sequência de notas. Uma das formas se dá com a formação de um vetor para armazenar a sequência que compõe a música. Faremos um laço com a função audioplay(y,fs) e play(p) para reproduzir em sequência. De início, nosso vetor será:\n",
    "\n",
    "     vtmusic=[1 2 3 4 5 6 7];\n",
    "Isso corresponderá às notas Dó, Ré, Mi, Fá, Sol, Lá e Si respectivamente. Em seguida determinamos a frequência de Dó\n",
    "\n",
    "     fdo=512;\n",
    "\n",
    "Agora relacionaremos as notas criando um vetor de relação:\n",
    "\n",
    "     vtTom2Freq = [1 9/8 5/4 4/3 3/2 5/3 15/8];\n",
    "     \n",
    "Também determinaremos o tempo de duração que queremos em cada nota:\n",
    "    \n",
    "    tf=3;\n",
    "\n"
   ]
  },
  {
   "cell_type": "markdown",
   "metadata": {},
   "source": [
    "#### Gerando e reproduzindo a música"
   ]
  },
  {
   "cell_type": "markdown",
   "metadata": {},
   "source": [
    "Em um laço de for faremos a reprodução de elemento a elemento do nosso vetor de música (vtmusic), gerando a frequência de cada nota. Nossa frequência de amostragem deve ter relação com cada frequência reproduzida, no final ficando fa=100*fs.\n",
    "\n",
    "Para completar nosso gerador de áudio adicionaremos a pausa. Para isso, acrescente no código FOR um IF tal que para cada elemento 0 do vetor vtmusic será considerado uma pausa. \n",
    "Nosso código ficará da seguinte forma:"
   ]
  },
  {
   "cell_type": "code",
   "execution_count": 2,
   "metadata": {
    "collapsed": true
   },
   "outputs": [],
   "source": [
    "clear all;clc;close all;\n",
    "tf = 0.3;% duraзгo de cada tom\n",
    "% tabela notas musicais\n",
    "% do- 1; re- 2; mi- 3; fa- 4; sol-5; la-6; si-7\n",
    "vtmusic = [1 2 3 4 5 6 7 8]; % vetor de \"mъsica\"\n",
    "% Frequencia fundamental da nota Dу \n",
    "fdo = 512; %Hz\n",
    "% Relaзгo de frequкncias entre as notas musicais\n",
    "vtTom2Freq = [1 9/8 5/4 4/3 3/2 5/3 15/8 2]; \n",
    "%% gerar e tocar musica \n",
    "for iplay = vtmusic\n",
    "    if iplay == 0\n",
    "        pause(tf);\n",
    "    else\n",
    "            fs = vtTom2Freq(iplay)*fdo; \n",
    "            fa = 100*fs;\n",
    "            t = 0:1/fa:tf;\n",
    "            y=cos(2*pi*fs*t);\n",
    "            %wavplay(y,fa)\n",
    "            p = audioplayer(y, fa);\n",
    "            play(p);\n",
    "            pause(tf);\n",
    "    end\n",
    "end"
   ]
  },
  {
   "cell_type": "markdown",
   "metadata": {},
   "source": [
    "Compilando o código acima obtemos a sequência de notas Dó, Ré, Mi, Fá, Sol, Lá e Si. Fica a critério do usuário determinar elementos do vtmusic. Para mostrar o funcionamento do reprodutor de música, faça a seguinte sequência de vtmusic correspondente à música asa branca:\n"
   ]
  },
  {
   "cell_type": "code",
   "execution_count": 3,
   "metadata": {},
   "outputs": [
    {
     "name": "stdout",
     "output_type": "stream",
     "text": [
      "the MATLAB function is cancelled\n"
     ]
    }
   ],
   "source": [
    "%% Reproduzindo música asa branca\n",
    "clear all;clc;close all;\n",
    "tf = 0.3;% duraзгo de cada tom\n",
    "% tabela notas musicais\n",
    "% do- 1; re- 2; mi- 3; fa- 4; sol-5; la-6; si-7\n",
    "vtmusic = [1 2 3 0 0 5 0 5 0 3 0 4 0 0 4 0 1 2 3 0 5 0 5 0 4 0 3 0 0 1 1 2 3 0 5 0 0 5 4 3 1 0 4 0 0 3 3 2 2 0 3 0 0 2 2 1 1 ];% vetor de \"mъsica\"\n",
    "% Frequencia fundamental da nota Dу \n",
    "fdo = 512; %Hz\n",
    "% Relaзгo de frequкncias entre as notas musicais\n",
    "vtTom2Freq = [1 9/8 5/4 4/3 3/2 5/3 15/8 2]; \n",
    "%% gerar e tocar musica \n",
    "for iplay = vtmusic\n",
    "    if iplay == 0\n",
    "        pause(tf);\n",
    "    else\n",
    "            fs = vtTom2Freq(iplay)*fdo; \n",
    "            fa = 100*fs;\n",
    "            t = 0:1/fa:tf;\n",
    "            y=cos(2*pi*fs*t)+0.8*cos(2*pi*0.01*fs*t)+0.8*cos(-2*pi*0.01*fs*t);\n",
    "            %wavplay(y,fa)\n",
    "            p = audioplayer(y, fa);\n",
    "            play(p);\n",
    "            pause(tf);\n",
    "    end\n",
    "end\n"
   ]
  },
  {
   "cell_type": "markdown",
   "metadata": {},
   "source": [
    "Note que para dar um timbre diferente, adcionamos outras senóides cujas frequências não corresponde a frequência fundamental do tom."
   ]
  },
  {
   "cell_type": "markdown",
   "metadata": {
    "collapsed": true
   },
   "source": [
    "### Abrindo uma amostra de música"
   ]
  },
  {
   "cell_type": "markdown",
   "metadata": {},
   "source": [
    "Podemos também abrir uma música no formato .wav no matlab. O comando para entrar com os dados da musica no matlab é o:\n",
    "\n",
    "    audioread('/Endereço/nomedoarquivo.wav',1).\n",
    "A outra forma seria arrastando o ícone para o workspace do matlab.\n",
    "Ao abrir uma música no matlab, recebemos um vetor 'vtSom' (análogo à nossa função y=cos(t) ), juntamente com a frequência 'dFa'. Reproduziremos o som montando o audioplay(); juntamente com o play:"
   ]
  },
  {
   "cell_type": "code",
   "execution_count": 4,
   "metadata": {},
   "outputs": [
    {
     "name": "stderr",
     "output_type": "stream",
     "text": [
      "\u001b[0;31mError using audioread (line 74)\n",
      "The filename specified was not found in the MATLAB path.\n",
      "\n",
      "\u001b[0m"
     ]
    }
   ],
   "source": [
    "close all;clc;clear all;\n",
    "%% Abre arquivo de som\n",
    "[vtSom, dFa] = audioread('handson2_file_minicurso_44_1KHz.wav');\n",
    "% vtSom: amplitude das amostras de som\n",
    "% dFa: frequЖncia de amostrasgem do som (amostragem no tempo)\n",
    "% iNBits: quantidade de bits por amostra (quantizaусo)\n",
    "% tempo entre amostras\n",
    "dta = 1/dFa;\n",
    "% eixo temporal do arquivo de som\n",
    "dTFinal = (length(vtSom)-1)*dta;\n",
    "vtTSom = 0:dta:dTFinal;\n",
    "%% Faz grрfico da onda sonora\n",
    "figure;\n",
    "plot(vtTSom,vtSom);\n",
    "set(gca,'FontWeight','bold','FontSize',12)\n",
    "set(gcf,'color',[1 1 1])\n",
    "title(['Sinal de Som '])\n",
    "ylabel('Amplitude');\n",
    "xlabel('Tempo (s)');\n",
    " \n",
    "%% Toca arquivo de som, calcula e mostra suas informaушes\n",
    "%wavplay(4*vtSom(1:end/10), 0.5*dFa);\n",
    "p = audioplayer(vtSom, 1*dFa);\n",
    "play(p);\n"
   ]
  },
  {
   "cell_type": "code",
   "execution_count": 5,
   "metadata": {},
   "outputs": [
    {
     "name": "stderr",
     "output_type": "stream",
     "text": [
      "\u001b[0;31mError using audioread (line 74)\n",
      "The filename specified was not found in the MATLAB path.\n",
      "\n",
      "\u001b[0m"
     ]
    }
   ],
   "source": [
    "[y,fs]=  audioread('/guitar.wav');% Deve ser colocado o endereço do arquivo .wav!! \n",
    "a=length(y);\n",
    "x=linspace(0,2,a);\n",
    "%% tocar sinal\n",
    "p = audioplayer(y,fs);\n",
    "play(p);\n",
    "\n",
    "%% plotar sinal\n",
    "plot(x,y);\n",
    "\n",
    "ylabel('Amplitude');\n",
    "xlabel('Tempo (s)');"
   ]
  },
  {
   "cell_type": "markdown",
   "metadata": {},
   "source": [
    "Em que x é o intervalo entre 0 e 2 com o mesmo numero de elementos que o vetor de informações (data)."
   ]
  },
  {
   "cell_type": "markdown",
   "metadata": {},
   "source": [
    "Podemos também manipular nossos dados alterando o volume (multiplicando o y por uma constante de 0 a 1) ou o tom do audio (multiplicando a frequência fs por alguma das relações citada na tabela)."
   ]
  },
  {
   "cell_type": "code",
   "execution_count": 6,
   "metadata": {},
   "outputs": [
    {
     "data": {
      "image/png": "[encoded data removed]",
      "text/plain": [
       "<IPython.core.display.Image object>"
      ]
     },
     "metadata": {},
     "output_type": "display_data"
    }
   ],
   "source": [
    "%% Parâmetros da onda\n",
    "tf = 1; % Tempo de duração da nota\n",
    "fc = (2)*512; % Frequência da nota Ré\n",
    "fs = 100*fc; % Frequencia de amostragem da nota. \n",
    "t = 0:1/fs:tf; % Vetor tempo. Para cada elemento do vetor t, haverá um elemento em y correspondente.\n",
    "%% Novo valor para amplitude.\n",
    "A = 0.5;  % A amplitude do sinal agora está com a metade da intensidade.\n",
    "y=A*cos(2*pi*fc*t); % Sinal senoidal\n",
    "\n",
    "% Reproduzindo a nota:\n",
    "p = audioplayer(y, fs); \n",
    "play(p);  \n",
    "plot(t,y)  \n",
    "axis([0 0.01 -2 2 ]);"
   ]
  },
  {
   "cell_type": "markdown",
   "metadata": {},
   "source": [
    "# Bibliografia\n",
    "\n",
    "Brasil Escola, Ondas (http://brasilescola.uol.com.br/fisica/ondas.htm)\n",
    "Mundo da Educação, Ondas (http://mundoeducacao.bol.uol.com.br/fisica/ondas-2.htm)"
   ]
  },
  {
   "cell_type": "code",
   "execution_count": null,
   "metadata": {
    "collapsed": true
   },
   "outputs": [],
   "source": []
  }
 ],
 "metadata": {
  "kernelspec": {
   "display_name": "Matlab",
   "language": "matlab",
   "name": "matlab"
  },
  "language_info": {
   "codemirror_mode": "octave",
   "file_extension": ".m",
   "help_links": [
    {
     "text": "MetaKernel Magics",
     "url": "https://github.com/calysto/metakernel/blob/master/metakernel/magics/README.md"
    }
   ],
   "mimetype": "text/x-matlab",
   "name": "matlab",
   "version": "0.14.3"
  }
 },
 "nbformat": 4,
 "nbformat_minor": 2
}
