{
 "cells": [
  {
   "cell_type": "markdown",
   "metadata": {},
   "source": [
    "# Instalação e configuração da máquina virtual UBUNTU 14.04"
   ]
  },
  {
   "cell_type": "markdown",
   "metadata": {},
   "source": [
    "## Criação de máquina virtual Ubuntu 14.04 no Windows"
   ]
  },
  {
   "cell_type": "markdown",
   "metadata": {},
   "source": [
    "**Passo 1**: Baixe o VMware em seu computador clicando no [Link de download](http://www.vmware.com/products/player/playerpro-evaluation.html)\n",
    "\n",
    "\n",
    "<img src =\"./HD_00_VM/print_vmware_download.png\" />\n",
    "\n",
    "**Passo 2**: Baixe o Ubuntu 10=4.04-5\n",
    "- Versão 64 Bits http://releases.ubuntu.com/trusty/ubuntu-14.04.5-desktop-amd64.iso\n",
    "- Versão 32 Bits http://releases.ubuntu.com/trusty/ubuntu-14.04.5-desktop-i386.iso\n",
    "\n",
    "**Passo 3**: Após baixado, abra o VMware e clique em Create a New Virtual Machine:\n",
    "<img src = \"./HD_00_VM/VMware_01.png\" style=\"width:608px;height:456px;\">\n",
    "\n",
    "**Passo 4**: Na tela seguinte clique no browser e indique o caminho do Ubuntu 14.04-5:\n",
    "\n",
    "<img src = \"./HD_00_VM/VMware_02.png\" style=\"width:608px;height:456px;\">\n",
    "\n",
    "**Passo 5**: Inclua as credenciais da máquina Linux:\n",
    "<img src = \"./HD_00_VM/VMware_03.png\" style=\"width:608px;height:456px;\">\n",
    "\n",
    "\n",
    "**Passo 6**: Inclua um nome e a pasta que será armazenada :\n",
    "<img src = \"./HD_00_VM/VMware_04.png\" style=\"width:608px;height:456px;\">\n",
    "\n",
    "\n",
    "**Passo 7**: Especifique 40 GB de espaço em HD:\n",
    "<img src = \"./HD_00_VM/VMware_05.png\" style=\"width:608px;height:456px;\">\n",
    "\n",
    "\n",
    "**Passo 8**: Clique no botão de coustomizar a máquina:\n",
    "<img src = \"./HD_00_VM/VMware_06.png\" style=\"width:608px;height:456px;\">\n",
    "\n",
    "\n",
    "**Passo 9**: Customize sua máquina virtual2 GB de memória:\n",
    "<img src = \"./HD_00_VM/VMware_07.png\" style=\"width:608px;height:456px;\">\n",
    "\n",
    "**Passo 10**: Clique em processadores e coloque 2 núcleos:\n",
    "<img src = \"./HD_00_VM/VMware_08.png\" style=\"width:608px;height:456px;\">\n",
    "\n",
    "\n",
    "**Passo 11**: Finalize sua máquina e prossiga com a instalação:\n",
    "<img src = \"./HD_00_VM/VMware_09.png\" style=\"width:608px;height:456px;\">\n",
    "<img src = \"./HD_00_VM/VMware_10.png\" style=\"width:608px;height:456px;\">\n",
    "<img src = \"./HD_00_VM/VMware_11.png\" style=\"width:608px;height:456px;\">"
   ]
  },
  {
   "cell_type": "markdown",
   "metadata": {},
   "source": [
    "## Iniciando a máquina virtual"
   ]
  },
  {
   "cell_type": "markdown",
   "metadata": {},
   "source": [
    "** Passo 1**: Abra o VMware no iniciar:\n",
    "<img src = \"./HD_00_VM/MIniciar_VMware.png\" style=\"width:408px;height:456px;\">\n",
    "** Passo 2**: Abra a máquina virtual que você criou, clique em Open a Virtual Machine:\n",
    "<img src = \"./HD_00_VM/VMware_32.png\" style=\"width:608px;height:456px;\">\n",
    "** Passo 3**: Abra a máquina virtual que você criou:\n",
    "<img src = \"./HD_00_VM/VMware_14.png\" style=\"width:608px;height:456px;\">\n",
    "\n",
    "Podem aparecer algumas janelas de alerta, como indicando a falta de memória reservada para swap ou acerca de dispositívos removíveis conectados ao computador. \n",
    "\n",
    "** Passo 4**: Entre com sua senha como uma máquina normal.\n",
    "<img src = \"./HD_00_VM/VMware_16.png\" style=\"width:608px;height:456px;\">\n"
   ]
  }
 ],
 "metadata": {
  "kernelspec": {
   "display_name": "Matlab",
   "language": "matlab",
   "name": "matlab"
  },
  "language_info": {
   "codemirror_mode": "octave",
   "file_extension": ".m",
   "help_links": [
    {
     "text": "MetaKernel Magics",
     "url": "https://github.com/calysto/metakernel/blob/master/metakernel/magics/README.md"
    }
   ],
   "mimetype": "text/x-matlab",
   "name": "matlab",
   "version": "0.14.2"
  }
 },
 "nbformat": 4,
 "nbformat_minor": 2
}
