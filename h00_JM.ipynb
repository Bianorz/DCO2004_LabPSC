{
 "cells": [
  {
   "cell_type": "markdown",
   "metadata": {},
   "source": [
    "## Tutorial de Instalação e configuração do Matlab 2015a\n",
    "## Objetivos\n",
    "As metas desse tutorial são ajudar o usuário a:\n",
    "- Instalar e configurar o Matlab2015a\n",
    "- Instalar e configurar o Kernel  do Matlab2015 para o Jupyter Notebook"
   ]
  },
  {
   "cell_type": "markdown",
   "metadata": {},
   "source": [
    "## Instalação e configuração do Matlab 2015a"
   ]
  },
  {
   "cell_type": "markdown",
   "metadata": {
    "collapsed": true
   },
   "source": [
    "**Passo 1**: Copie install.jar da pasta \"fixr2015arel\" para a pasta java/jar\n",
    "> cp fixr2015arel/install.jar java/jar\n",
    "\n",
    "**Passo 2**: Mude a permissão de toda a pasta do Matlab, digitando (se você estiver dentro da pasta matlab_temp):\n",
    "> chmod 777 -R ../matlab_temp\n",
    "\n",
    "**Passo 3**: Chame o comando de instalação, digitando:\n",
    "> sudo ./install\n",
    " \n",
    " - Escolha instalação \"File Installation Key\"\n",
    " - Use o seguinte serial 58691-35070-25550-28046-23042\n",
    " - Pronto, o Matlab será instalado na pasta \" /usr/local/MATLAB/MATLAB_Production_Server/R2015a/”\n",
    "\n",
    "**Passo 4**: Depois de instalado, copiei o arquivo \"libmwservices.so\" da pasta \"fixr2015arel\" para a pasta \"/usr/local/MATLAB/MATLAB_Production_Server/R2015a/bin/glnxa64”\n",
    "> sudo cp fixr2015arel/libmwservices.so  /usr/local/MATLAB/MATLAB_Production_Server/R2015a/bin/glnxa64\n",
    "\n",
    "**Passo 5**:  Instalar suporte do Matlab no Ubuntu (lembrar que a pasta do Matlab é /usr/local/MATLAB/MATLAB_Production_Server/R2015a/):\n",
    "> sudo apt-get install matlab-support\n",
    "\n",
    " - Será pedido para ativar o matlab. Escolha para “active manually without internet” e aponte para o arquivo de licença  “fixr2015arel/Standalone License.lic”\t\n",
    "\n",
    "**Passo 6**: Mudar as permissões de pasta para o kernel do jupyter notebook funcionar.\n",
    "> sudo chown gppcom -R ~/.matlab\n"
   ]
  },
  {
   "cell_type": "markdown",
   "metadata": {},
   "source": [
    "## Instalação do suporte ao Matlab no Jupiter Notebook (Kernel do Matlab)"
   ]
  },
  {
   "cell_type": "markdown",
   "metadata": {},
   "source": [
    "\n",
    "**Passo 1**: Instalação do Anaconda (pule esse passo se o Anaconda já estiver instalado)\n",
    "- Acesse a [página de download](https://www.continuum.io/downloads)\n",
    "- Clique na aba Download for Linux\n",
    "- Baixe a versão adequada do Python 3 a seu sistema operacional (32 ou 64 bits). Por via das dúvidas, confira esta informação via terminal:\n",
    "  - Abra o terminal (Ctrl+Alt+T)\n",
    "  - Digite o comando 'uname -m'. Normalmente retorna 'i686', 'x86' ou 'x86_64'. Os dois primeiros retornos indicam 32 bits, e o último indica um sistema de 64 bits.\n",
    "  - Quando o download for concluído, entre na pasta Downloads e execute um dos comandos abaixo, para 64 ou 32 bits respectivamente:\n",
    "    > bash Anaconda3-4.3.1-Linux-x86_64.sh\n",
    "    \n",
    "    ou\n",
    "\n",
    "    > bash Anaconda3-4.3.1-Linux-x88.sh \n",
    "\n",
    "    - A instalação começará, e o usuário deve seguir confirmando os requests com 'Enter' ou 'yes'.\n",
    "    - Responda “yes” para: Do you wish the installer to prepend the Anaconda3 install location to PATH in your ~/.bashrc ? \n",
    "\n",
    "**Passo 2**: Precisamos do Pyhton 3.4, assim usaremos o Anaconda para realizar o Downgrade para o Pyhton 3.4. \n",
    "  - Feche o terminal atual, abra outro  e digite:\n",
    "> conda install python=3.4\n",
    "\n",
    "  - Para saber o requisitos do sistema (versões do Pyhton e do Matlab), consulte [fonte](https://www.mathworks.com/help/matlab/matlab_external/system-requirements-for-matlab-engine-for-python.html). \n",
    "\n",
    "**Passo 3**: Instalar o Matlab Engine para Python, digite (estamos supondo que o seu Matlab está instalado na pasta “/usr/local/MATLAB/MATLAB_Production_Server/R2015a”) [fonte](https://www.mathworks.com/help/matlab/matlab_external/install-the-matlab-engine-for-python.html?requestedDomain=www.mathworks.com):\n",
    "\n",
    "> cd \"/usr/local/MATLAB/MATLAB_Production_Server/R2015a/extern/engines/python\"\n",
    " \n",
    "    > sudo python3 setup.py install --user\n",
    "\n",
    "**Passo 4**: Instalar o Kernel do Matlab Jupyter Notebook, digite:\n",
    "\n",
    "> pip install matlab_kernel\n",
    "      \n",
    "    > python3 -m matlab_kernel install --user\n",
    "\n",
    "**Passo 5**: Mudar as permissões de pasta para o kernel do jupyter notebook funcionar. Digite (os comandos abaixo consideram que o usuário é **gppcom**):\n",
    "> sudo chown gppcom -R ~/.matlab\n",
    "  \n",
    "    > sudo chown gppcom -R ~/.local/lib/\n",
    "\n",
    "[Fonte: Jupyter Kernel for Matlab](https://github.com/Calysto/matlab_kernel)"
   ]
  },
  {
   "cell_type": "markdown",
   "metadata": {},
   "source": [
    "## Teste do suporte ao Matlab no Jupiter Notebook (Kernel do Matlab)"
   ]
  },
  {
   "cell_type": "code",
   "execution_count": null,
   "metadata": {
    "collapsed": true
   },
   "outputs": [],
   "source": [
    "** Passo 1:** abrir um notebook vazio para edição. Digite em um terminal:\n",
    "> jupyter notebook tesMatLab.ipynb\n",
    "\n",
    "** Passo 2:** ativar o kernel do Matlab:\n",
    "        \n",
    "** Passo 3:** digite o seguinte código em uma célula com o tipo \"code\":\n",
    "     \n",
    "x = 1;\n",
    "s = 2;\n",
    "s + x\n",
    "\n",
    "** Passo 3:** digite shift+enter para executar o comando.\n",
    "        \n",
    "\n",
    "\n",
    "\n",
    "\n",
    "        \n",
    "    "
   ]
  }
 ],
 "metadata": {
  "kernelspec": {
   "display_name": "Python 3",
   "language": "python",
   "name": "python3"
  },
  "language_info": {
   "codemirror_mode": {
    "name": "ipython",
    "version": 3
   },
   "file_extension": ".py",
   "mimetype": "text/x-python",
   "name": "python",
   "nbconvert_exporter": "python",
   "pygments_lexer": "ipython3",
   "version": "3.6.1"
  }
 },
 "nbformat": 4,
 "nbformat_minor": 2
}
