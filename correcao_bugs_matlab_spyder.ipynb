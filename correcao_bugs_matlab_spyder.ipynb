{
 "cells": [
  {
   "cell_type": "markdown",
   "metadata": {},
   "source": [
    "# Guia de correção de bugs\n",
    "\n",
    "### Objetivos:\n",
    "- Corrigir o bug do OpenGL no Matlab\n",
    "- Corrigir o ícone do Spyder na barra de tarefas do Ubuntu (interface: Unity)\n",
    "\n"
   ]
  },
  {
   "cell_type": "markdown",
   "metadata": {},
   "source": [
    "## Matlab\n",
    "\n",
    "- Execute o seguinte comando no terminal:\n",
    "```bash \n",
    "sudo mv /usr/local/MATLAB/MATLAB_Production_Server/R2015a/sys/os/glnxa64/libstdc++.so.6 /usr/local/MATLAB/MATLAB_Production_Server/R2015a/sys/os/glnxa64/libstdc++.so.6_old\n",
    "```"
   ]
  },
  {
   "cell_type": "markdown",
   "metadata": {},
   "source": [
    "## Spyder\n",
    "\n",
    "- **Passo 1:** Remova o ícone Spyder da barra de tarefas. Para isso, clique nele com o botão direito do mouse e escolha 'Desbloquear do lançador'. <br>\n",
    "- **Passo 2:** Abra o terminal (Ctrl + Alt + t) <br>\n",
    "- **Passo 3:** Execute:\n",
    "```bash\n",
    "sudo gedit /usr/share/applications/spyder.desktop\n",
    "```\n",
    "<br>\n",
    "\n",
    "- **Passo 3:** Substitua o conteúdo do arquivo por:\n",
    "```\n",
    "[Desktop Entry]\n",
    "Version=1.0\n",
    "Type=Application\n",
    "Name=Spyder3\n",
    "GenericName=Spyder3\n",
    "Comment=Scientific PYthon Development EnviRonment - Python3\n",
    "TryExec=spyder3\n",
    "Exec=spyder3 %F\n",
    "Categories=Development;Science;IDE;Qt;\n",
    "Icon=spyder3\n",
    "Terminal=false\n",
    "StartupNotify=true\n",
    "MimeType=text/x-python;\n",
    "```\n",
    "<br>\n",
    "\n",
    "- **Passo 4: ** Salve as alterações (Ctrl + s) e feche o arquivo. \n",
    "- **Passo 5: ** Abra o spyder via terminal. Basta executar:\n",
    "```\n",
    "spyder\n",
    "```\n",
    "<br>\n",
    "\n",
    "- **Passo 6: ** No ícone Spyder que aparece, clique com o direito e escolha 'Bloquear no lançador'. <br>\n",
    "\n",
    "Com esses passos executados, o ícone da barra de tarefas já direcionará a versão para Spyder 3, e não Spyder 2. "
   ]
  },
  {
   "cell_type": "code",
   "execution_count": null,
   "metadata": {
    "collapsed": true
   },
   "outputs": [],
   "source": []
  }
 ],
 "metadata": {
  "kernelspec": {
   "display_name": "Python 3",
   "language": "python",
   "name": "python3"
  },
  "language_info": {
   "codemirror_mode": {
    "name": "ipython",
    "version": 3
   },
   "file_extension": ".py",
   "mimetype": "text/x-python",
   "name": "python",
   "nbconvert_exporter": "python",
   "pygments_lexer": "ipython3",
   "version": "3.6.1"
  }
 },
 "nbformat": 4,
 "nbformat_minor": 2
}
